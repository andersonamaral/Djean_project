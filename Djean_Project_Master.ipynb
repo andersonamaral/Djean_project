{
 "cells": [
  {
   "cell_type": "markdown",
   "metadata": {},
   "source": [
    "### ETL Aggregating by Country to Djean Axt Swiss Company\n",
    "### Author : Anderson Amaral , email : luis.anderson.sp@gmail.com \n",
    "### LinkedIn: https://www.linkedin.com/in/andersonlamaral/\n"
   ]
  },
  {
   "cell_type": "code",
   "execution_count": 46,
   "metadata": {
    "collapsed": true
   },
   "outputs": [],
   "source": [
    "import pandas as pd"
   ]
  },
  {
   "cell_type": "markdown",
   "metadata": {},
   "source": [
    "Below I read the Excel file into a Pandas DataFrame. Realise I have delete manually the first 3 columns in order to Pandas read correctly the file. If it always happen like that, I can add some stuff to always delete these 3 rows automatically\n",
    "\n",
    "Obs: *At the same time I am reading a file, I am also calling it df *"
   ]
  },
  {
   "cell_type": "code",
   "execution_count": 47,
   "metadata": {
    "collapsed": false
   },
   "outputs": [],
   "source": [
    "df = pd.read_excel('/home/anderson/Desktop/Djean_project/ander.xlsx', sheetname='WorldWide Tickets', header=0)"
   ]
  },
  {
   "cell_type": "markdown",
   "metadata": {},
   "source": [
    "Now , let's gonna check the first 5 rows in order to see if everything is ok."
   ]
  },
  {
   "cell_type": "code",
   "execution_count": 48,
   "metadata": {
    "collapsed": false
   },
   "outputs": [
    {
     "data": {
      "text/html": [
       "<div>\n",
       "<table border=\"1\" class=\"dataframe\">\n",
       "  <thead>\n",
       "    <tr style=\"text-align: right;\">\n",
       "      <th></th>\n",
       "      <th>N° Incident</th>\n",
       "      <th>Open Date &amp; Time</th>\n",
       "      <th>Assign To</th>\n",
       "      <th>Status</th>\n",
       "      <th>Customer</th>\n",
       "      <th>End Customer</th>\n",
       "      <th>N° Dossier Client</th>\n",
       "      <th>Country</th>\n",
       "      <th>HUB</th>\n",
       "      <th>Open By</th>\n",
       "      <th>...</th>\n",
       "      <th>Engineer</th>\n",
       "      <th>Couverture / Délais</th>\n",
       "      <th>Date limite</th>\n",
       "      <th>Etat</th>\n",
       "      <th>Groupe de l'opérateur</th>\n",
       "      <th>Close Date &amp; Time</th>\n",
       "      <th>IB_SLA-GTI</th>\n",
       "      <th>IB_SLA-GTR</th>\n",
       "      <th>Serial #</th>\n",
       "      <th>IB_SLA-GBL</th>\n",
       "    </tr>\n",
       "  </thead>\n",
       "  <tbody>\n",
       "    <tr>\n",
       "      <th>0</th>\n",
       "      <td>64381</td>\n",
       "      <td>11/24/2016 4:03:37 PM</td>\n",
       "      <td>CHERRIER</td>\n",
       "      <td>IN PROCESS</td>\n",
       "      <td>IBM - SPM</td>\n",
       "      <td>SPM</td>\n",
       "      <td>706012ZYH0</td>\n",
       "      <td>France</td>\n",
       "      <td>Europe</td>\n",
       "      <td>MAGIC</td>\n",
       "      <td>...</td>\n",
       "      <td>NaN</td>\n",
       "      <td>J+2</td>\n",
       "      <td>11/26/2016 4:03:37 PM</td>\n",
       "      <td>O</td>\n",
       "      <td>EXTERNAL_SUPPORT</td>\n",
       "      <td>NaN</td>\n",
       "      <td>NOK</td>\n",
       "      <td>NaN</td>\n",
       "      <td>0534AL5882</td>\n",
       "      <td>NOK</td>\n",
       "    </tr>\n",
       "    <tr>\n",
       "      <th>1</th>\n",
       "      <td>64380</td>\n",
       "      <td>11/24/2016 4:03:31 PM</td>\n",
       "      <td>OBOUCHAM</td>\n",
       "      <td>WAITING CLIENT</td>\n",
       "      <td>AXWAY - AXWAY</td>\n",
       "      <td>AXWAY</td>\n",
       "      <td>NC</td>\n",
       "      <td>France</td>\n",
       "      <td>Europe</td>\n",
       "      <td>OBOUCHAM</td>\n",
       "      <td>...</td>\n",
       "      <td>NaN</td>\n",
       "      <td>J+1</td>\n",
       "      <td>11/25/2016 4:03:31 PM</td>\n",
       "      <td>O</td>\n",
       "      <td>DISPATCH WESTERN EUROPE</td>\n",
       "      <td>NaN</td>\n",
       "      <td>NOK</td>\n",
       "      <td>NaN</td>\n",
       "      <td>1R5CL4J</td>\n",
       "      <td>NOK</td>\n",
       "    </tr>\n",
       "    <tr>\n",
       "      <th>2</th>\n",
       "      <td>64379</td>\n",
       "      <td>11/24/2016 3:48:53 PM</td>\n",
       "      <td>STEPHAN</td>\n",
       "      <td>WAITING CLIENT</td>\n",
       "      <td>ASLEASE - CDISCOUNT</td>\n",
       "      <td>CDISCOUNT</td>\n",
       "      <td>nc</td>\n",
       "      <td>France</td>\n",
       "      <td>Europe</td>\n",
       "      <td>STEPHAN</td>\n",
       "      <td>...</td>\n",
       "      <td>NaN</td>\n",
       "      <td>H+4 SITE 24</td>\n",
       "      <td>11/24/2016 7:48:53 PM</td>\n",
       "      <td>O</td>\n",
       "      <td>DISPATCH WESTERN EUROPE</td>\n",
       "      <td>NaN</td>\n",
       "      <td>NOK</td>\n",
       "      <td>NaN</td>\n",
       "      <td>NaN</td>\n",
       "      <td>NOK</td>\n",
       "    </tr>\n",
       "    <tr>\n",
       "      <th>3</th>\n",
       "      <td>64378</td>\n",
       "      <td>11/24/2016 3:46:22 PM</td>\n",
       "      <td>MAGIC</td>\n",
       "      <td>OPENED</td>\n",
       "      <td>NaN</td>\n",
       "      <td>NaN</td>\n",
       "      <td>706012H3ZS</td>\n",
       "      <td>France</td>\n",
       "      <td>Europe</td>\n",
       "      <td>MAGIC</td>\n",
       "      <td>...</td>\n",
       "      <td>NaN</td>\n",
       "      <td>NaN</td>\n",
       "      <td>NaN</td>\n",
       "      <td>O</td>\n",
       "      <td>EXTERNAL_SUPPORT</td>\n",
       "      <td>NaN</td>\n",
       "      <td>NOK</td>\n",
       "      <td>NOK</td>\n",
       "      <td>NaN</td>\n",
       "      <td>NOK</td>\n",
       "    </tr>\n",
       "    <tr>\n",
       "      <th>4</th>\n",
       "      <td>64377</td>\n",
       "      <td>11/24/2016 3:39:40 PM</td>\n",
       "      <td>CHERRIER</td>\n",
       "      <td>SUPPLY CHAIN</td>\n",
       "      <td>IBM - SPM</td>\n",
       "      <td>SPM</td>\n",
       "      <td>706012HZ05</td>\n",
       "      <td>France</td>\n",
       "      <td>Europe</td>\n",
       "      <td>MAGIC</td>\n",
       "      <td>...</td>\n",
       "      <td>NaN</td>\n",
       "      <td>H+4 SITE 24</td>\n",
       "      <td>11/24/2016 7:39:40 PM</td>\n",
       "      <td>O</td>\n",
       "      <td>EXTERNAL_SUPPORT</td>\n",
       "      <td>NaN</td>\n",
       "      <td>NOK</td>\n",
       "      <td>NaN</td>\n",
       "      <td>H584KY1</td>\n",
       "      <td>NOK</td>\n",
       "    </tr>\n",
       "  </tbody>\n",
       "</table>\n",
       "<p>5 rows × 25 columns</p>\n",
       "</div>"
      ],
      "text/plain": [
       "  N° Incident       Open Date & Time Assign To          Status  \\\n",
       "0       64381  11/24/2016 4:03:37 PM  CHERRIER      IN PROCESS   \n",
       "1       64380  11/24/2016 4:03:31 PM  OBOUCHAM  WAITING CLIENT   \n",
       "2       64379  11/24/2016 3:48:53 PM   STEPHAN  WAITING CLIENT   \n",
       "3       64378  11/24/2016 3:46:22 PM     MAGIC          OPENED   \n",
       "4       64377  11/24/2016 3:39:40 PM  CHERRIER    SUPPLY CHAIN   \n",
       "\n",
       "              Customer End Customer N° Dossier Client Country     HUB  \\\n",
       "0            IBM - SPM          SPM        706012ZYH0  France  Europe   \n",
       "1        AXWAY - AXWAY        AXWAY                NC  France  Europe   \n",
       "2  ASLEASE - CDISCOUNT    CDISCOUNT                nc  France  Europe   \n",
       "3                  NaN          NaN        706012H3ZS  France  Europe   \n",
       "4            IBM - SPM          SPM        706012HZ05  France  Europe   \n",
       "\n",
       "    Open By    ...     Engineer Couverture / Délais            Date limite  \\\n",
       "0     MAGIC    ...          NaN                 J+2  11/26/2016 4:03:37 PM   \n",
       "1  OBOUCHAM    ...          NaN                 J+1  11/25/2016 4:03:31 PM   \n",
       "2   STEPHAN    ...          NaN         H+4 SITE 24  11/24/2016 7:48:53 PM   \n",
       "3     MAGIC    ...          NaN                 NaN                    NaN   \n",
       "4     MAGIC    ...          NaN         H+4 SITE 24  11/24/2016 7:39:40 PM   \n",
       "\n",
       "  Etat    Groupe de l'opérateur Close Date & Time IB_SLA-GTI IB_SLA-GTR  \\\n",
       "0    O         EXTERNAL_SUPPORT               NaN        NOK        NaN   \n",
       "1    O  DISPATCH WESTERN EUROPE               NaN        NOK        NaN   \n",
       "2    O  DISPATCH WESTERN EUROPE               NaN        NOK        NaN   \n",
       "3    O         EXTERNAL_SUPPORT               NaN        NOK        NOK   \n",
       "4    O         EXTERNAL_SUPPORT               NaN        NOK        NaN   \n",
       "\n",
       "     Serial # IB_SLA-GBL  \n",
       "0  0534AL5882        NOK  \n",
       "1     1R5CL4J        NOK  \n",
       "2         NaN        NOK  \n",
       "3         NaN        NOK  \n",
       "4     H584KY1        NOK  \n",
       "\n",
       "[5 rows x 25 columns]"
      ]
     },
     "execution_count": 48,
     "metadata": {},
     "output_type": "execute_result"
    }
   ],
   "source": [
    "df.head(5)"
   ]
  },
  {
   "cell_type": "markdown",
   "metadata": {},
   "source": [
    "First, we should see how many different countries we have on this file :"
   ]
  },
  {
   "cell_type": "code",
   "execution_count": 49,
   "metadata": {
    "collapsed": false
   },
   "outputs": [
    {
     "data": {
      "text/plain": [
       "array(['France', 'Italy', 'Romania', 'Spain', 'Brazil', 'Switzerland',\n",
       "       'United Arab Emirates', 'Libyan Arab Jamahiriya', 'Morocco',\n",
       "       'Thailand', 'Poland', 'Croatia', 'Portugal', 'Japan', 'Malaysia',\n",
       "       'Australia', 'Canada', 'United States', 'Germany', 'Luxembourg',\n",
       "       'Netherlands', 'Pakistan', 'Bulgaria', 'Chile', 'Algeria',\n",
       "       'Austria', nan, 'Turkey', 'Honduras', 'Hungary',\n",
       "       'Bosnia and Herzegovina', 'Belgium', 'India', 'Macedonia',\n",
       "       'Tunisia', 'Albania', 'Singapore', 'Hong Kong', 'China',\n",
       "       'United Kingdom', 'Bangladesh', 'Guatemala', 'Denmark',\n",
       "       'Tanzania, United Republic of', 'Mongolia', 'Bahrain', 'Indonesia',\n",
       "       'Lebanon', 'Egypt', 'Oman', 'Saudi Arabia', 'Philippines',\n",
       "       'Central African Republic', 'Russian Federation', 'Viet Nam',\n",
       "       'Qatar', 'Colombia', 'Afghanistan', 'Ghana', 'South Africa',\n",
       "       'Serbia', 'Mozambique', 'Botswana', 'Yemen', 'Kenya',\n",
       "       'Burkina Faso', 'New Caledonia', 'Brunei Darussalam', 'Greece',\n",
       "       'Sweden', 'Moldova, Republic of', 'Czech Republic', 'Korea South',\n",
       "       'New Zealand', 'Iraq', 'Slovakia', 'Nigeria', 'Mexico',\n",
       "       'Seychelles', 'Zimbabwe', 'Kuwait', 'Finland', 'Mali'], dtype=object)"
      ]
     },
     "execution_count": 49,
     "metadata": {},
     "output_type": "execute_result"
    }
   ],
   "source": [
    "df['Country'].unique()"
   ]
  },
  {
   "cell_type": "code",
   "execution_count": 50,
   "metadata": {
    "collapsed": false
   },
   "outputs": [
    {
     "name": "stdout",
     "output_type": "stream",
     "text": [
      "We have 82 different countries\n"
     ]
    }
   ],
   "source": [
    "numbercountries = df['Country'].nunique()\n",
    "print(\"We have\",numbercountries,\"different countries\")"
   ]
  },
  {
   "cell_type": "markdown",
   "metadata": {},
   "source": [
    "Now, let's gonna check some details of the dataframe \"df\""
   ]
  },
  {
   "cell_type": "code",
   "execution_count": 51,
   "metadata": {
    "collapsed": false
   },
   "outputs": [
    {
     "name": "stdout",
     "output_type": "stream",
     "text": [
      "<class 'pandas.core.frame.DataFrame'>\n",
      "RangeIndex: 1000 entries, 0 to 999\n",
      "Data columns (total 25 columns):\n",
      "N° Incident              999 non-null object\n",
      "Open Date & Time         999 non-null object\n",
      "Assign To                999 non-null object\n",
      "Status                   999 non-null object\n",
      "Customer                 994 non-null object\n",
      "End Customer             997 non-null object\n",
      "N° Dossier Client        867 non-null object\n",
      "Country                  996 non-null object\n",
      "HUB                      996 non-null object\n",
      "Open By                  997 non-null object\n",
      "Brend                    996 non-null object\n",
      "Model                    996 non-null object\n",
      "Component                996 non-null object\n",
      "Planning Date            526 non-null object\n",
      "Partner                  527 non-null object\n",
      "Engineer                 528 non-null object\n",
      "Couverture / Délais      995 non-null object\n",
      "Date limite              987 non-null object\n",
      "Etat                     998 non-null object\n",
      "Groupe de l'opérateur    997 non-null object\n",
      "Close Date & Time        597 non-null object\n",
      "IB_SLA-GTI               972 non-null object\n",
      "IB_SLA-GTR               27 non-null object\n",
      "Serial #                 640 non-null object\n",
      "IB_SLA-GBL               995 non-null object\n",
      "dtypes: object(25)\n",
      "memory usage: 195.4+ KB\n"
     ]
    }
   ],
   "source": [
    "df.info()"
   ]
  },
  {
   "cell_type": "markdown",
   "metadata": {
    "collapsed": false
   },
   "source": [
    "Now, I am gonna create a for loop to generate dataframes based on the countries names! That will be very handy for the user (my friend, by the way)!!"
   ]
  },
  {
   "cell_type": "code",
   "execution_count": 52,
   "metadata": {
    "collapsed": false
   },
   "outputs": [],
   "source": [
    "d = {}\n",
    "for name in df['Country']:\n",
    "    d[name] = df[df['Country'] == name]"
   ]
  },
  {
   "cell_type": "raw",
   "metadata": {},
   "source": [
    "Very nice the for loop above, isn't? Let's see if it works, by calling any country.Below I will be calling Brazil then later France, the first  3 rows of each new dataframe I just made for every country using th for loop aforementioned :"
   ]
  },
  {
   "cell_type": "code",
   "execution_count": 53,
   "metadata": {
    "collapsed": false
   },
   "outputs": [
    {
     "data": {
      "text/html": [
       "<div>\n",
       "<table border=\"1\" class=\"dataframe\">\n",
       "  <thead>\n",
       "    <tr style=\"text-align: right;\">\n",
       "      <th></th>\n",
       "      <th>N° Incident</th>\n",
       "      <th>Open Date &amp; Time</th>\n",
       "      <th>Assign To</th>\n",
       "      <th>Status</th>\n",
       "      <th>Customer</th>\n",
       "      <th>End Customer</th>\n",
       "      <th>N° Dossier Client</th>\n",
       "      <th>Country</th>\n",
       "      <th>HUB</th>\n",
       "      <th>Open By</th>\n",
       "      <th>...</th>\n",
       "      <th>Engineer</th>\n",
       "      <th>Couverture / Délais</th>\n",
       "      <th>Date limite</th>\n",
       "      <th>Etat</th>\n",
       "      <th>Groupe de l'opérateur</th>\n",
       "      <th>Close Date &amp; Time</th>\n",
       "      <th>IB_SLA-GTI</th>\n",
       "      <th>IB_SLA-GTR</th>\n",
       "      <th>Serial #</th>\n",
       "      <th>IB_SLA-GBL</th>\n",
       "    </tr>\n",
       "  </thead>\n",
       "  <tbody>\n",
       "    <tr>\n",
       "      <th>12</th>\n",
       "      <td>64369</td>\n",
       "      <td>11/24/2016 1:05:26 PM</td>\n",
       "      <td>GRAMOS</td>\n",
       "      <td>WAITING CLIENT</td>\n",
       "      <td>PROTEGE - PROTEGE</td>\n",
       "      <td>PROTEGE - PROTEGE</td>\n",
       "      <td>NC</td>\n",
       "      <td>Brazil</td>\n",
       "      <td>Americas</td>\n",
       "      <td>GRAMOS</td>\n",
       "      <td>...</td>\n",
       "      <td>NaN</td>\n",
       "      <td>H+6 REPAR 24</td>\n",
       "      <td>11/24/2016 7:05:26 PM</td>\n",
       "      <td>O</td>\n",
       "      <td>CALL</td>\n",
       "      <td>NaN</td>\n",
       "      <td>NaN</td>\n",
       "      <td>NOK</td>\n",
       "      <td>NaN</td>\n",
       "      <td>NOK</td>\n",
       "    </tr>\n",
       "    <tr>\n",
       "      <th>15</th>\n",
       "      <td>64366</td>\n",
       "      <td>11/24/2016 12:51:04 PM</td>\n",
       "      <td>GRAMOS</td>\n",
       "      <td>PLANNING</td>\n",
       "      <td>PROTEGE - PROTEGE</td>\n",
       "      <td>PROTEGE - PROTEGE</td>\n",
       "      <td>355369</td>\n",
       "      <td>Brazil</td>\n",
       "      <td>Americas</td>\n",
       "      <td>GRAMOS</td>\n",
       "      <td>...</td>\n",
       "      <td>Ozeas Santos</td>\n",
       "      <td>BEST_EFFORT</td>\n",
       "      <td>2016-01-12 12:51:04</td>\n",
       "      <td>O</td>\n",
       "      <td>CALL</td>\n",
       "      <td>NaN</td>\n",
       "      <td>OK</td>\n",
       "      <td>NaN</td>\n",
       "      <td>NaN</td>\n",
       "      <td>OK</td>\n",
       "    </tr>\n",
       "    <tr>\n",
       "      <th>77</th>\n",
       "      <td>64304</td>\n",
       "      <td>11/23/2016 1:38:32 PM</td>\n",
       "      <td>GRAMOS</td>\n",
       "      <td>WAITING CLIENT</td>\n",
       "      <td>PROTEGE - PROTEGE</td>\n",
       "      <td>PROTEGE - PROTEGE</td>\n",
       "      <td>NC</td>\n",
       "      <td>Brazil</td>\n",
       "      <td>Americas</td>\n",
       "      <td>GRAMOS</td>\n",
       "      <td>...</td>\n",
       "      <td>NaN</td>\n",
       "      <td>H+6 REPAR 24</td>\n",
       "      <td>11/23/2016 7:53:55 PM</td>\n",
       "      <td>O</td>\n",
       "      <td>CALL</td>\n",
       "      <td>NaN</td>\n",
       "      <td>NaN</td>\n",
       "      <td>NOK</td>\n",
       "      <td>NaN</td>\n",
       "      <td>NOK</td>\n",
       "    </tr>\n",
       "  </tbody>\n",
       "</table>\n",
       "<p>3 rows × 25 columns</p>\n",
       "</div>"
      ],
      "text/plain": [
       "   N° Incident        Open Date & Time Assign To          Status  \\\n",
       "12       64369   11/24/2016 1:05:26 PM    GRAMOS  WAITING CLIENT   \n",
       "15       64366  11/24/2016 12:51:04 PM    GRAMOS        PLANNING   \n",
       "77       64304   11/23/2016 1:38:32 PM    GRAMOS  WAITING CLIENT   \n",
       "\n",
       "             Customer       End Customer N° Dossier Client Country       HUB  \\\n",
       "12  PROTEGE - PROTEGE  PROTEGE - PROTEGE                NC  Brazil  Americas   \n",
       "15  PROTEGE - PROTEGE  PROTEGE - PROTEGE            355369  Brazil  Americas   \n",
       "77  PROTEGE - PROTEGE  PROTEGE - PROTEGE                NC  Brazil  Americas   \n",
       "\n",
       "   Open By    ...          Engineer Couverture / Délais  \\\n",
       "12  GRAMOS    ...               NaN        H+6 REPAR 24   \n",
       "15  GRAMOS    ...      Ozeas Santos         BEST_EFFORT   \n",
       "77  GRAMOS    ...               NaN        H+6 REPAR 24   \n",
       "\n",
       "              Date limite Etat Groupe de l'opérateur Close Date & Time  \\\n",
       "12  11/24/2016 7:05:26 PM    O                  CALL               NaN   \n",
       "15    2016-01-12 12:51:04    O                  CALL               NaN   \n",
       "77  11/23/2016 7:53:55 PM    O                  CALL               NaN   \n",
       "\n",
       "   IB_SLA-GTI IB_SLA-GTR Serial # IB_SLA-GBL  \n",
       "12        NaN        NOK      NaN        NOK  \n",
       "15         OK        NaN      NaN         OK  \n",
       "77        NaN        NOK      NaN        NOK  \n",
       "\n",
       "[3 rows x 25 columns]"
      ]
     },
     "execution_count": 53,
     "metadata": {},
     "output_type": "execute_result"
    }
   ],
   "source": [
    "d['Brazil'].head(3)"
   ]
  },
  {
   "cell_type": "code",
   "execution_count": 54,
   "metadata": {
    "collapsed": false
   },
   "outputs": [
    {
     "data": {
      "text/html": [
       "<div>\n",
       "<table border=\"1\" class=\"dataframe\">\n",
       "  <thead>\n",
       "    <tr style=\"text-align: right;\">\n",
       "      <th></th>\n",
       "      <th>N° Incident</th>\n",
       "      <th>Open Date &amp; Time</th>\n",
       "      <th>Assign To</th>\n",
       "      <th>Status</th>\n",
       "      <th>Customer</th>\n",
       "      <th>End Customer</th>\n",
       "      <th>N° Dossier Client</th>\n",
       "      <th>Country</th>\n",
       "      <th>HUB</th>\n",
       "      <th>Open By</th>\n",
       "      <th>...</th>\n",
       "      <th>Engineer</th>\n",
       "      <th>Couverture / Délais</th>\n",
       "      <th>Date limite</th>\n",
       "      <th>Etat</th>\n",
       "      <th>Groupe de l'opérateur</th>\n",
       "      <th>Close Date &amp; Time</th>\n",
       "      <th>IB_SLA-GTI</th>\n",
       "      <th>IB_SLA-GTR</th>\n",
       "      <th>Serial #</th>\n",
       "      <th>IB_SLA-GBL</th>\n",
       "    </tr>\n",
       "  </thead>\n",
       "  <tbody>\n",
       "    <tr>\n",
       "      <th>0</th>\n",
       "      <td>64381</td>\n",
       "      <td>11/24/2016 4:03:37 PM</td>\n",
       "      <td>CHERRIER</td>\n",
       "      <td>IN PROCESS</td>\n",
       "      <td>IBM - SPM</td>\n",
       "      <td>SPM</td>\n",
       "      <td>706012ZYH0</td>\n",
       "      <td>France</td>\n",
       "      <td>Europe</td>\n",
       "      <td>MAGIC</td>\n",
       "      <td>...</td>\n",
       "      <td>NaN</td>\n",
       "      <td>J+2</td>\n",
       "      <td>11/26/2016 4:03:37 PM</td>\n",
       "      <td>O</td>\n",
       "      <td>EXTERNAL_SUPPORT</td>\n",
       "      <td>NaN</td>\n",
       "      <td>NOK</td>\n",
       "      <td>NaN</td>\n",
       "      <td>0534AL5882</td>\n",
       "      <td>NOK</td>\n",
       "    </tr>\n",
       "    <tr>\n",
       "      <th>1</th>\n",
       "      <td>64380</td>\n",
       "      <td>11/24/2016 4:03:31 PM</td>\n",
       "      <td>OBOUCHAM</td>\n",
       "      <td>WAITING CLIENT</td>\n",
       "      <td>AXWAY - AXWAY</td>\n",
       "      <td>AXWAY</td>\n",
       "      <td>NC</td>\n",
       "      <td>France</td>\n",
       "      <td>Europe</td>\n",
       "      <td>OBOUCHAM</td>\n",
       "      <td>...</td>\n",
       "      <td>NaN</td>\n",
       "      <td>J+1</td>\n",
       "      <td>11/25/2016 4:03:31 PM</td>\n",
       "      <td>O</td>\n",
       "      <td>DISPATCH WESTERN EUROPE</td>\n",
       "      <td>NaN</td>\n",
       "      <td>NOK</td>\n",
       "      <td>NaN</td>\n",
       "      <td>1R5CL4J</td>\n",
       "      <td>NOK</td>\n",
       "    </tr>\n",
       "    <tr>\n",
       "      <th>2</th>\n",
       "      <td>64379</td>\n",
       "      <td>11/24/2016 3:48:53 PM</td>\n",
       "      <td>STEPHAN</td>\n",
       "      <td>WAITING CLIENT</td>\n",
       "      <td>ASLEASE - CDISCOUNT</td>\n",
       "      <td>CDISCOUNT</td>\n",
       "      <td>nc</td>\n",
       "      <td>France</td>\n",
       "      <td>Europe</td>\n",
       "      <td>STEPHAN</td>\n",
       "      <td>...</td>\n",
       "      <td>NaN</td>\n",
       "      <td>H+4 SITE 24</td>\n",
       "      <td>11/24/2016 7:48:53 PM</td>\n",
       "      <td>O</td>\n",
       "      <td>DISPATCH WESTERN EUROPE</td>\n",
       "      <td>NaN</td>\n",
       "      <td>NOK</td>\n",
       "      <td>NaN</td>\n",
       "      <td>NaN</td>\n",
       "      <td>NOK</td>\n",
       "    </tr>\n",
       "  </tbody>\n",
       "</table>\n",
       "<p>3 rows × 25 columns</p>\n",
       "</div>"
      ],
      "text/plain": [
       "  N° Incident       Open Date & Time Assign To          Status  \\\n",
       "0       64381  11/24/2016 4:03:37 PM  CHERRIER      IN PROCESS   \n",
       "1       64380  11/24/2016 4:03:31 PM  OBOUCHAM  WAITING CLIENT   \n",
       "2       64379  11/24/2016 3:48:53 PM   STEPHAN  WAITING CLIENT   \n",
       "\n",
       "              Customer End Customer N° Dossier Client Country     HUB  \\\n",
       "0            IBM - SPM          SPM        706012ZYH0  France  Europe   \n",
       "1        AXWAY - AXWAY        AXWAY                NC  France  Europe   \n",
       "2  ASLEASE - CDISCOUNT    CDISCOUNT                nc  France  Europe   \n",
       "\n",
       "    Open By    ...     Engineer Couverture / Délais            Date limite  \\\n",
       "0     MAGIC    ...          NaN                 J+2  11/26/2016 4:03:37 PM   \n",
       "1  OBOUCHAM    ...          NaN                 J+1  11/25/2016 4:03:31 PM   \n",
       "2   STEPHAN    ...          NaN         H+4 SITE 24  11/24/2016 7:48:53 PM   \n",
       "\n",
       "  Etat    Groupe de l'opérateur Close Date & Time IB_SLA-GTI IB_SLA-GTR  \\\n",
       "0    O         EXTERNAL_SUPPORT               NaN        NOK        NaN   \n",
       "1    O  DISPATCH WESTERN EUROPE               NaN        NOK        NaN   \n",
       "2    O  DISPATCH WESTERN EUROPE               NaN        NOK        NaN   \n",
       "\n",
       "     Serial # IB_SLA-GBL  \n",
       "0  0534AL5882        NOK  \n",
       "1     1R5CL4J        NOK  \n",
       "2         NaN        NOK  \n",
       "\n",
       "[3 rows x 25 columns]"
      ]
     },
     "execution_count": 54,
     "metadata": {},
     "output_type": "execute_result"
    }
   ],
   "source": [
    "d['France'].head(3)"
   ]
  },
  {
   "cell_type": "markdown",
   "metadata": {},
   "source": [
    "It works!! Now, I just need to make every dataframe turn into a Excel file or csv file!!\n"
   ]
  },
  {
   "cell_type": "markdown",
   "metadata": {},
   "source": [
    "Here I have picked up 5 countries which dataframe are going to be printed as csv into the folder \"Countries\""
   ]
  },
  {
   "cell_type": "code",
   "execution_count": 55,
   "metadata": {
    "collapsed": true
   },
   "outputs": [],
   "source": [
    "d['Brazil'].to_csv('/home/anderson/Desktop/Djean_project/Countries/Brazil.csv' ,sep=';',index=False, encoding='utf-8')"
   ]
  },
  {
   "cell_type": "code",
   "execution_count": 64,
   "metadata": {
    "collapsed": false
   },
   "outputs": [],
   "source": [
    "d['France'].to_csv('/home/anderson/Desktop/Djean_project/Countries/France.csv' ,sep=';',index=False, encoding='utf-8')"
   ]
  },
  {
   "cell_type": "code",
   "execution_count": 65,
   "metadata": {
    "collapsed": false
   },
   "outputs": [],
   "source": [
    "d['Italy'].to_csv('/home/anderson/Desktop/Djean_project/Countries/Italy.csv' ,sep=';',index=False, encoding='utf-8')"
   ]
  },
  {
   "cell_type": "code",
   "execution_count": 67,
   "metadata": {
    "collapsed": false
   },
   "outputs": [],
   "source": [
    "d['Switzerland'].to_csv('/home/anderson/Desktop/Djean_project/Countries/Switzerland.csv' ,sep=';',index=False, encoding='utf-8')"
   ]
  },
  {
   "cell_type": "markdown",
   "metadata": {},
   "source": [
    "\"Now, you just need to copy and paste the same code above, for every country of you interest, and automatically a dataframe will be generate everytime you run this file\""
   ]
  },
  {
   "cell_type": "code",
   "execution_count": null,
   "metadata": {
    "collapsed": true
   },
   "outputs": [],
   "source": []
  }
 ],
 "metadata": {
  "kernelspec": {
   "display_name": "Python 3",
   "language": "python",
   "name": "python3"
  },
  "language_info": {
   "codemirror_mode": {
    "name": "ipython",
    "version": 3
   },
   "file_extension": ".py",
   "mimetype": "text/x-python",
   "name": "python",
   "nbconvert_exporter": "python",
   "pygments_lexer": "ipython3",
   "version": "3.5.1"
  }
 },
 "nbformat": 4,
 "nbformat_minor": 0
}
