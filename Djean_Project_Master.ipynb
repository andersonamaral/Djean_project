{
 "cells": [
  {
   "cell_type": "markdown",
   "metadata": {},
   "source": [
    "### ETL Aggregating by Country to Djean Axt Swiss Company\n",
    "### Author : Anderson Amaral , email : luis.anderson.sp@gmail.com \n",
    "### LinkedIn: https://www.linkedin.com/in/andersonlamaral/\n"
   ]
  },
  {
   "cell_type": "code",
   "execution_count": 1,
   "metadata": {
    "collapsed": true
   },
   "outputs": [],
   "source": [
    "import pandas as pd"
   ]
  },
  {
   "cell_type": "markdown",
   "metadata": {},
   "source": [
    "Below I read the Excel file into a Pandas DataFrame. Realise I have delete manually the first 3 columns in order to Pandas read correctly the file. If it always happen like that, I can add some stuff to always delete these 3 rows automatically\n",
    "\n",
    "Obs: *At the same time I am reading a file, I am also calling it df *"
   ]
  },
  {
   "cell_type": "code",
   "execution_count": 3,
   "metadata": {
    "collapsed": false
   },
   "outputs": [],
   "source": [
    "df = pd.read_excel('/home/anderson/Desktop/Djean_project/ander.xlsx', sheetname='WorldWide Tickets', header=0)"
   ]
  },
  {
   "cell_type": "markdown",
   "metadata": {},
   "source": [
    "Now , let's gonna check the first 5 rows in order to see if everything is ok."
   ]
  },
  {
   "cell_type": "code",
   "execution_count": 4,
   "metadata": {
    "collapsed": false
   },
   "outputs": [],
   "source": [
    "#df.head(5)"
   ]
  },
  {
   "cell_type": "markdown",
   "metadata": {},
   "source": [
    "First, we should see how many different countries we have on this file :"
   ]
  },
  {
   "cell_type": "code",
   "execution_count": 5,
   "metadata": {
    "collapsed": false
   },
   "outputs": [
    {
     "data": {
      "text/plain": [
       "array(['France', 'Italy', 'Romania', 'Spain', 'Brazil', 'Switzerland',\n",
       "       'United Arab Emirates', 'Libyan Arab Jamahiriya', 'Morocco',\n",
       "       'Thailand', 'Poland', 'Croatia', 'Portugal', 'Japan', 'Malaysia',\n",
       "       'Australia', 'Canada', 'United States', 'Germany', 'Luxembourg',\n",
       "       'Netherlands', 'Pakistan', 'Bulgaria', 'Chile', 'Algeria',\n",
       "       'Austria', nan, 'Turkey', 'Honduras', 'Hungary',\n",
       "       'Bosnia and Herzegovina', 'Belgium', 'India', 'Macedonia',\n",
       "       'Tunisia', 'Albania', 'Singapore', 'Hong Kong', 'China',\n",
       "       'United Kingdom', 'Bangladesh', 'Guatemala', 'Denmark',\n",
       "       'Tanzania, United Republic of', 'Mongolia', 'Bahrain', 'Indonesia',\n",
       "       'Lebanon', 'Egypt', 'Oman', 'Saudi Arabia', 'Philippines',\n",
       "       'Central African Republic', 'Russian Federation', 'Viet Nam',\n",
       "       'Qatar', 'Colombia', 'Afghanistan', 'Ghana', 'South Africa',\n",
       "       'Serbia', 'Mozambique', 'Botswana', 'Yemen', 'Kenya',\n",
       "       'Burkina Faso', 'New Caledonia', 'Brunei Darussalam', 'Greece',\n",
       "       'Sweden', 'Moldova, Republic of', 'Czech Republic', 'Korea South',\n",
       "       'New Zealand', 'Iraq', 'Slovakia', 'Nigeria', 'Mexico',\n",
       "       'Seychelles', 'Zimbabwe', 'Kuwait', 'Finland', 'Mali'], dtype=object)"
      ]
     },
     "execution_count": 5,
     "metadata": {},
     "output_type": "execute_result"
    }
   ],
   "source": [
    "df['Country'].unique()"
   ]
  },
  {
   "cell_type": "code",
   "execution_count": 6,
   "metadata": {
    "collapsed": false
   },
   "outputs": [
    {
     "name": "stdout",
     "output_type": "stream",
     "text": [
      "We have 82 different countries\n"
     ]
    }
   ],
   "source": [
    "numbercountries = df['Country'].nunique()\n",
    "print(\"We have\",numbercountries,\"different countries\")"
   ]
  },
  {
   "cell_type": "markdown",
   "metadata": {},
   "source": [
    "Now, let's gonna check some details of the dataframe \"df\""
   ]
  },
  {
   "cell_type": "code",
   "execution_count": 7,
   "metadata": {
    "collapsed": false
   },
   "outputs": [
    {
     "name": "stdout",
     "output_type": "stream",
     "text": [
      "<class 'pandas.core.frame.DataFrame'>\n",
      "RangeIndex: 1000 entries, 0 to 999\n",
      "Data columns (total 25 columns):\n",
      "N° Incident              999 non-null object\n",
      "Open Date & Time         999 non-null object\n",
      "Assign To                999 non-null object\n",
      "Status                   999 non-null object\n",
      "Customer                 994 non-null object\n",
      "End Customer             997 non-null object\n",
      "N° Dossier Client        867 non-null object\n",
      "Country                  996 non-null object\n",
      "HUB                      996 non-null object\n",
      "Open By                  997 non-null object\n",
      "Brend                    996 non-null object\n",
      "Model                    996 non-null object\n",
      "Component                996 non-null object\n",
      "Planning Date            526 non-null object\n",
      "Partner                  527 non-null object\n",
      "Engineer                 528 non-null object\n",
      "Couverture / Délais      995 non-null object\n",
      "Date limite              987 non-null object\n",
      "Etat                     998 non-null object\n",
      "Groupe de l'opérateur    997 non-null object\n",
      "Close Date & Time        597 non-null object\n",
      "IB_SLA-GTI               972 non-null object\n",
      "IB_SLA-GTR               27 non-null object\n",
      "Serial #                 640 non-null object\n",
      "IB_SLA-GBL               995 non-null object\n",
      "dtypes: object(25)\n",
      "memory usage: 195.4+ KB\n"
     ]
    }
   ],
   "source": [
    "df.info()"
   ]
  },
  {
   "cell_type": "markdown",
   "metadata": {
    "collapsed": false
   },
   "source": [
    "Now, I am gonna create a for loop to generate dataframes based on the countries names! That will be very handy for the user (my friend, by the way)!!"
   ]
  },
  {
   "cell_type": "code",
   "execution_count": 8,
   "metadata": {
    "collapsed": false
   },
   "outputs": [],
   "source": [
    "d = {}\n",
    "for name in df['Country']:\n",
    "    d[name] = df[df['Country'] == name]"
   ]
  },
  {
   "cell_type": "raw",
   "metadata": {},
   "source": [
    "Very nice the for loop above, isn't? Let's see if it works, by calling any country.Below I will be calling Brazil then later France, the first  3 rows of each new dataframe I just made for every country using th for loop aforementioned :"
   ]
  },
  {
   "cell_type": "code",
   "execution_count": 9,
   "metadata": {
    "collapsed": false
   },
   "outputs": [],
   "source": [
    "#d['Brazil'].head(3)"
   ]
  },
  {
   "cell_type": "code",
   "execution_count": 10,
   "metadata": {
    "collapsed": false
   },
   "outputs": [],
   "source": [
    "#d['France'].head(3)"
   ]
  },
  {
   "cell_type": "markdown",
   "metadata": {},
   "source": [
    "It works!! Now, I just need to make every dataframe turn into a Excel file or csv file!!\n"
   ]
  },
  {
   "cell_type": "markdown",
   "metadata": {},
   "source": [
    "Here I have picked up 5 countries which dataframe are going to be printed as csv into the folder \"Countries\""
   ]
  },
  {
   "cell_type": "code",
   "execution_count": 11,
   "metadata": {
    "collapsed": true
   },
   "outputs": [],
   "source": [
    "d['Brazil'].to_csv('/home/anderson/Desktop/Djean_project/Countries/Brazil.csv' ,sep=';',index=False, encoding='utf-8')"
   ]
  },
  {
   "cell_type": "code",
   "execution_count": 12,
   "metadata": {
    "collapsed": false
   },
   "outputs": [],
   "source": [
    "d['France'].to_csv('/home/anderson/Desktop/Djean_project/Countries/France.csv' ,sep=';',index=False, encoding='utf-8')"
   ]
  },
  {
   "cell_type": "code",
   "execution_count": 13,
   "metadata": {
    "collapsed": false
   },
   "outputs": [],
   "source": [
    "d['Italy'].to_csv('/home/anderson/Desktop/Djean_project/Countries/Italy.csv' ,sep=';',index=False, encoding='utf-8')"
   ]
  },
  {
   "cell_type": "code",
   "execution_count": 14,
   "metadata": {
    "collapsed": false
   },
   "outputs": [],
   "source": [
    "d['Switzerland'].to_csv('/home/anderson/Desktop/Djean_project/Countries/Switzerland.csv' ,sep=';',index=False, encoding='utf-8')"
   ]
  },
  {
   "cell_type": "markdown",
   "metadata": {},
   "source": [
    "\"Now, you just need to copy and paste the same code above, for every country of you interest, and automatically a dataframe will be generate everytime you run this file\""
   ]
  },
  {
   "cell_type": "code",
   "execution_count": null,
   "metadata": {
    "collapsed": true
   },
   "outputs": [],
   "source": []
  }
 ],
 "metadata": {
  "kernelspec": {
   "display_name": "Python 3",
   "language": "python",
   "name": "python3"
  },
  "language_info": {
   "codemirror_mode": {
    "name": "ipython",
    "version": 3
   },
   "file_extension": ".py",
   "mimetype": "text/x-python",
   "name": "python",
   "nbconvert_exporter": "python",
   "pygments_lexer": "ipython3",
   "version": "3.5.1"
  }
 },
 "nbformat": 4,
 "nbformat_minor": 0
}
